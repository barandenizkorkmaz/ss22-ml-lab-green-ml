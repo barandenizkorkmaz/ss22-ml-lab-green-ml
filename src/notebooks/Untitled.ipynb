{
 "cells": [
  {
   "cell_type": "code",
   "execution_count": 28,
   "id": "457b35b2",
   "metadata": {},
   "outputs": [],
   "source": [
    "import pandas\n",
    "import seml\n",
    "import matplotlib as plt"
   ]
  },
  {
   "cell_type": "code",
   "execution_count": 2,
   "id": "f7310758",
   "metadata": {},
   "outputs": [
    {
     "data": {
      "application/vnd.jupyter.widget-view+json": {
       "model_id": "36ee36e4ef044a57927d60be808fa892",
       "version_major": 2,
       "version_minor": 0
      },
      "text/plain": [
       "  0%|          | 0/35 [00:00<?, ?it/s]"
      ]
     },
     "metadata": {},
     "output_type": "display_data"
    },
    {
     "data": {
      "application/vnd.jupyter.widget-view+json": {
       "model_id": "2433ad4d879443f28d08647ef9a235c0",
       "version_major": 2,
       "version_minor": 0
      },
      "text/plain": [
       "  0%|          | 0/35 [00:00<?, ?it/s]"
      ]
     },
     "metadata": {},
     "output_type": "display_data"
    }
   ],
   "source": [
    "result = seml.get_results(\"dataset_layerwise\", to_data_frame = True)"
   ]
  },
  {
   "cell_type": "code",
   "execution_count": 3,
   "id": "9162c0f5",
   "metadata": {},
   "outputs": [
    {
     "data": {
      "text/html": [
       "<div>\n",
       "<style scoped>\n",
       "    .dataframe tbody tr th:only-of-type {\n",
       "        vertical-align: middle;\n",
       "    }\n",
       "\n",
       "    .dataframe tbody tr th {\n",
       "        vertical-align: top;\n",
       "    }\n",
       "\n",
       "    .dataframe thead th {\n",
       "        text-align: right;\n",
       "    }\n",
       "</style>\n",
       "<table border=\"1\" class=\"dataframe\">\n",
       "  <thead>\n",
       "    <tr style=\"text-align: right;\">\n",
       "      <th></th>\n",
       "      <th>_id</th>\n",
       "      <th>config.overwrite</th>\n",
       "      <th>config.db_collection</th>\n",
       "      <th>config.batch_size</th>\n",
       "      <th>config.layerwise</th>\n",
       "      <th>config.model_file</th>\n",
       "      <th>config.model_index</th>\n",
       "      <th>config.number_forward_passes</th>\n",
       "      <th>config.seed</th>\n",
       "      <th>result.name</th>\n",
       "      <th>result.power</th>\n",
       "      <th>result.model</th>\n",
       "      <th>result.power_layerwise</th>\n",
       "    </tr>\n",
       "  </thead>\n",
       "  <tbody>\n",
       "    <tr>\n",
       "      <th>30</th>\n",
       "      <td>49</td>\n",
       "      <td>49</td>\n",
       "      <td>dataset_layerwise</td>\n",
       "      <td>16</td>\n",
       "      <td>True</td>\n",
       "      <td>dataset.models.dense</td>\n",
       "      <td>10</td>\n",
       "      <td>1000</td>\n",
       "      <td>339511341</td>\n",
       "      <td>Dense 10-layers</td>\n",
       "      <td>3.839005e-09</td>\n",
       "      <td>{\"class_name\": \"Sequential\", \"config\": {\"name\"...</td>\n",
       "      <td>[5.402633567041821e-10, 5.581593350962135e-10,...</td>\n",
       "    </tr>\n",
       "    <tr>\n",
       "      <th>31</th>\n",
       "      <td>50</td>\n",
       "      <td>50</td>\n",
       "      <td>dataset_layerwise</td>\n",
       "      <td>16</td>\n",
       "      <td>True</td>\n",
       "      <td>dataset.models.dense</td>\n",
       "      <td>11</td>\n",
       "      <td>1000</td>\n",
       "      <td>654869831</td>\n",
       "      <td>Dense 11-layers</td>\n",
       "      <td>1.909998e-08</td>\n",
       "      <td>{\"class_name\": \"Sequential\", \"config\": {\"name\"...</td>\n",
       "      <td>[3.099015866301449e-09, 2.4941507041970176e-09...</td>\n",
       "    </tr>\n",
       "    <tr>\n",
       "      <th>32</th>\n",
       "      <td>51</td>\n",
       "      <td>51</td>\n",
       "      <td>dataset_layerwise</td>\n",
       "      <td>16</td>\n",
       "      <td>True</td>\n",
       "      <td>dataset.models.dense</td>\n",
       "      <td>12</td>\n",
       "      <td>1000</td>\n",
       "      <td>383585221</td>\n",
       "      <td>Dense 12-layers</td>\n",
       "      <td>4.503376e-09</td>\n",
       "      <td>{\"class_name\": \"Sequential\", \"config\": {\"name\"...</td>\n",
       "      <td>[5.538937906605667e-10, 5.533899636983871e-10,...</td>\n",
       "    </tr>\n",
       "    <tr>\n",
       "      <th>33</th>\n",
       "      <td>52</td>\n",
       "      <td>52</td>\n",
       "      <td>dataset_layerwise</td>\n",
       "      <td>16</td>\n",
       "      <td>True</td>\n",
       "      <td>dataset.models.dense</td>\n",
       "      <td>13</td>\n",
       "      <td>1000</td>\n",
       "      <td>566436499</td>\n",
       "      <td>Dense 13-layers</td>\n",
       "      <td>5.342834e-09</td>\n",
       "      <td>{\"class_name\": \"Sequential\", \"config\": {\"name\"...</td>\n",
       "      <td>[6.146411127020253e-10, 5.709922211799357e-10,...</td>\n",
       "    </tr>\n",
       "    <tr>\n",
       "      <th>34</th>\n",
       "      <td>53</td>\n",
       "      <td>53</td>\n",
       "      <td>dataset_layerwise</td>\n",
       "      <td>16</td>\n",
       "      <td>True</td>\n",
       "      <td>dataset.models.dense</td>\n",
       "      <td>14</td>\n",
       "      <td>1000</td>\n",
       "      <td>495517729</td>\n",
       "      <td>Dense 14-layers</td>\n",
       "      <td>3.714729e-08</td>\n",
       "      <td>{\"class_name\": \"Sequential\", \"config\": {\"name\"...</td>\n",
       "      <td>[3.831702024566004e-09, 3.7548540936262725e-09...</td>\n",
       "    </tr>\n",
       "  </tbody>\n",
       "</table>\n",
       "</div>"
      ],
      "text/plain": [
       "    _id  config.overwrite config.db_collection  config.batch_size  \\\n",
       "30   49                49    dataset_layerwise                 16   \n",
       "31   50                50    dataset_layerwise                 16   \n",
       "32   51                51    dataset_layerwise                 16   \n",
       "33   52                52    dataset_layerwise                 16   \n",
       "34   53                53    dataset_layerwise                 16   \n",
       "\n",
       "    config.layerwise     config.model_file  config.model_index  \\\n",
       "30              True  dataset.models.dense                  10   \n",
       "31              True  dataset.models.dense                  11   \n",
       "32              True  dataset.models.dense                  12   \n",
       "33              True  dataset.models.dense                  13   \n",
       "34              True  dataset.models.dense                  14   \n",
       "\n",
       "    config.number_forward_passes  config.seed      result.name  result.power  \\\n",
       "30                          1000    339511341  Dense 10-layers  3.839005e-09   \n",
       "31                          1000    654869831  Dense 11-layers  1.909998e-08   \n",
       "32                          1000    383585221  Dense 12-layers  4.503376e-09   \n",
       "33                          1000    566436499  Dense 13-layers  5.342834e-09   \n",
       "34                          1000    495517729  Dense 14-layers  3.714729e-08   \n",
       "\n",
       "                                         result.model  \\\n",
       "30  {\"class_name\": \"Sequential\", \"config\": {\"name\"...   \n",
       "31  {\"class_name\": \"Sequential\", \"config\": {\"name\"...   \n",
       "32  {\"class_name\": \"Sequential\", \"config\": {\"name\"...   \n",
       "33  {\"class_name\": \"Sequential\", \"config\": {\"name\"...   \n",
       "34  {\"class_name\": \"Sequential\", \"config\": {\"name\"...   \n",
       "\n",
       "                               result.power_layerwise  \n",
       "30  [5.402633567041821e-10, 5.581593350962135e-10,...  \n",
       "31  [3.099015866301449e-09, 2.4941507041970176e-09...  \n",
       "32  [5.538937906605667e-10, 5.533899636983871e-10,...  \n",
       "33  [6.146411127020253e-10, 5.709922211799357e-10,...  \n",
       "34  [3.831702024566004e-09, 3.7548540936262725e-09...  "
      ]
     },
     "execution_count": 3,
     "metadata": {},
     "output_type": "execute_result"
    }
   ],
   "source": [
    "result.tail()"
   ]
  },
  {
   "cell_type": "code",
   "execution_count": 5,
   "id": "29990237",
   "metadata": {},
   "outputs": [
    {
     "name": "stderr",
     "output_type": "stream",
     "text": [
      "2022-06-13 10:12:28.086398: W tensorflow/stream_executor/platform/default/dso_loader.cc:64] Could not load dynamic library 'libcudart.so.11.0'; dlerror: libcudart.so.11.0: cannot open shared object file: No such file or directory\n",
      "2022-06-13 10:12:28.086464: I tensorflow/stream_executor/cuda/cudart_stub.cc:29] Ignore above cudart dlerror if you do not have a GPU set up on your machine.\n"
     ]
    }
   ],
   "source": [
    "import tensorflow as tf\n"
   ]
  },
  {
   "cell_type": "code",
   "execution_count": 23,
   "id": "7af076ef",
   "metadata": {},
   "outputs": [],
   "source": [
    "result[\"model\"] = result.apply(lambda x: tf.keras.models.model_from_json(x[\"result.model\"]), axis = 1)"
   ]
  },
  {
   "cell_type": "code",
   "execution_count": 24,
   "id": "de6f034c",
   "metadata": {},
   "outputs": [],
   "source": [
    "result[\"power_additive\"] = result.apply(lambda x: sum(x[\"result.power_layerwise\"]), axis = 1)"
   ]
  },
  {
   "cell_type": "code",
   "execution_count": 34,
   "id": "ec0541f4",
   "metadata": {},
   "outputs": [],
   "source": [
    "result[\"additivity_difference\"] = result.apply(lambda x: x[\"power_additive\"]/x[\"result.power\"], axis = 1)"
   ]
  },
  {
   "cell_type": "code",
   "execution_count": 35,
   "id": "62861f22",
   "metadata": {},
   "outputs": [
    {
     "data": {
      "text/plain": [
       "0      2.776074\n",
       "1      2.746339\n",
       "2      3.167557\n",
       "3      2.478248\n",
       "4      3.167217\n",
       "5      3.210210\n",
       "6      3.717270\n",
       "7    -16.739949\n",
       "8      2.540532\n",
       "9      2.994055\n",
       "10     3.348896\n",
       "11     4.454682\n",
       "12     2.921450\n",
       "13     2.806904\n",
       "14     2.714603\n",
       "15     3.625894\n",
       "16     3.714282\n",
       "17    -4.729160\n",
       "18     3.281905\n",
       "19     1.519612\n",
       "20     1.554153\n",
       "21     2.448238\n",
       "22     0.994765\n",
       "23     1.090280\n",
       "24     1.270953\n",
       "25     1.266365\n",
       "26     1.326879\n",
       "27     1.283940\n",
       "28     1.514126\n",
       "29     1.438141\n",
       "30     1.431882\n",
       "31     1.694092\n",
       "32     1.482144\n",
       "33     1.400450\n",
       "34     1.401742\n",
       "Name: additivity_difference, dtype: float64"
      ]
     },
     "execution_count": 35,
     "metadata": {},
     "output_type": "execute_result"
    }
   ],
   "source": [
    "result[\"additivity_difference\"]"
   ]
  },
  {
   "cell_type": "code",
   "execution_count": 8,
   "id": "9669dc31",
   "metadata": {},
   "outputs": [
    {
     "data": {
      "text/html": [
       "<div>\n",
       "<style scoped>\n",
       "    .dataframe tbody tr th:only-of-type {\n",
       "        vertical-align: middle;\n",
       "    }\n",
       "\n",
       "    .dataframe tbody tr th {\n",
       "        vertical-align: top;\n",
       "    }\n",
       "\n",
       "    .dataframe thead th {\n",
       "        text-align: right;\n",
       "    }\n",
       "</style>\n",
       "<table border=\"1\" class=\"dataframe\">\n",
       "  <thead>\n",
       "    <tr style=\"text-align: right;\">\n",
       "      <th></th>\n",
       "      <th>_id</th>\n",
       "      <th>config.overwrite</th>\n",
       "      <th>config.db_collection</th>\n",
       "      <th>config.batch_size</th>\n",
       "      <th>config.model_file</th>\n",
       "      <th>config.model_index</th>\n",
       "      <th>config.number_forward_passes</th>\n",
       "      <th>config.seed</th>\n",
       "      <th>result.name</th>\n",
       "      <th>result.power</th>\n",
       "      <th>result.model.class_name</th>\n",
       "      <th>result.model.config.name</th>\n",
       "      <th>result.model.config.layers</th>\n",
       "    </tr>\n",
       "  </thead>\n",
       "  <tbody>\n",
       "    <tr>\n",
       "      <th>0</th>\n",
       "      <td>1</td>\n",
       "      <td>1</td>\n",
       "      <td>datset_experiment4</td>\n",
       "      <td>16</td>\n",
       "      <td>dataset.models.dense</td>\n",
       "      <td>1</td>\n",
       "      <td>500</td>\n",
       "      <td>568970276</td>\n",
       "      <td>Dense 1-layers</td>\n",
       "      <td>4.433252e-09</td>\n",
       "      <td>Sequential</td>\n",
       "      <td>sequential</td>\n",
       "      <td>[{'class_name': 'InputLayer', 'config': {'batc...</td>\n",
       "    </tr>\n",
       "    <tr>\n",
       "      <th>1</th>\n",
       "      <td>2</td>\n",
       "      <td>2</td>\n",
       "      <td>datset_experiment4</td>\n",
       "      <td>16</td>\n",
       "      <td>dataset.models.dense</td>\n",
       "      <td>2</td>\n",
       "      <td>500</td>\n",
       "      <td>90954912</td>\n",
       "      <td>Dense 2-layers</td>\n",
       "      <td>1.273700e-09</td>\n",
       "      <td>Sequential</td>\n",
       "      <td>sequential</td>\n",
       "      <td>[{'class_name': 'InputLayer', 'config': {'batc...</td>\n",
       "    </tr>\n",
       "    <tr>\n",
       "      <th>2</th>\n",
       "      <td>3</td>\n",
       "      <td>3</td>\n",
       "      <td>datset_experiment4</td>\n",
       "      <td>16</td>\n",
       "      <td>dataset.models.dense</td>\n",
       "      <td>3</td>\n",
       "      <td>500</td>\n",
       "      <td>125590831</td>\n",
       "      <td>Dense 3-layers</td>\n",
       "      <td>2.111820e-09</td>\n",
       "      <td>Sequential</td>\n",
       "      <td>sequential</td>\n",
       "      <td>[{'class_name': 'InputLayer', 'config': {'batc...</td>\n",
       "    </tr>\n",
       "    <tr>\n",
       "      <th>3</th>\n",
       "      <td>4</td>\n",
       "      <td>4</td>\n",
       "      <td>datset_experiment4</td>\n",
       "      <td>16</td>\n",
       "      <td>dataset.models.dense</td>\n",
       "      <td>4</td>\n",
       "      <td>500</td>\n",
       "      <td>158554069</td>\n",
       "      <td>Dense 4-layers</td>\n",
       "      <td>1.976174e-09</td>\n",
       "      <td>Sequential</td>\n",
       "      <td>sequential</td>\n",
       "      <td>[{'class_name': 'InputLayer', 'config': {'batc...</td>\n",
       "    </tr>\n",
       "    <tr>\n",
       "      <th>4</th>\n",
       "      <td>5</td>\n",
       "      <td>5</td>\n",
       "      <td>datset_experiment4</td>\n",
       "      <td>16</td>\n",
       "      <td>dataset.models.dense</td>\n",
       "      <td>5</td>\n",
       "      <td>500</td>\n",
       "      <td>626085831</td>\n",
       "      <td>Dense 5-layers</td>\n",
       "      <td>2.483918e-09</td>\n",
       "      <td>Sequential</td>\n",
       "      <td>sequential</td>\n",
       "      <td>[{'class_name': 'InputLayer', 'config': {'batc...</td>\n",
       "    </tr>\n",
       "  </tbody>\n",
       "</table>\n",
       "</div>"
      ],
      "text/plain": [
       "   _id  config.overwrite config.db_collection  config.batch_size  \\\n",
       "0    1                 1   datset_experiment4                 16   \n",
       "1    2                 2   datset_experiment4                 16   \n",
       "2    3                 3   datset_experiment4                 16   \n",
       "3    4                 4   datset_experiment4                 16   \n",
       "4    5                 5   datset_experiment4                 16   \n",
       "\n",
       "      config.model_file  config.model_index  config.number_forward_passes  \\\n",
       "0  dataset.models.dense                   1                           500   \n",
       "1  dataset.models.dense                   2                           500   \n",
       "2  dataset.models.dense                   3                           500   \n",
       "3  dataset.models.dense                   4                           500   \n",
       "4  dataset.models.dense                   5                           500   \n",
       "\n",
       "   config.seed     result.name  result.power result.model.class_name  \\\n",
       "0    568970276  Dense 1-layers  4.433252e-09              Sequential   \n",
       "1     90954912  Dense 2-layers  1.273700e-09              Sequential   \n",
       "2    125590831  Dense 3-layers  2.111820e-09              Sequential   \n",
       "3    158554069  Dense 4-layers  1.976174e-09              Sequential   \n",
       "4    626085831  Dense 5-layers  2.483918e-09              Sequential   \n",
       "\n",
       "  result.model.config.name                         result.model.config.layers  \n",
       "0               sequential  [{'class_name': 'InputLayer', 'config': {'batc...  \n",
       "1               sequential  [{'class_name': 'InputLayer', 'config': {'batc...  \n",
       "2               sequential  [{'class_name': 'InputLayer', 'config': {'batc...  \n",
       "3               sequential  [{'class_name': 'InputLayer', 'config': {'batc...  \n",
       "4               sequential  [{'class_name': 'InputLayer', 'config': {'batc...  "
      ]
     },
     "execution_count": 8,
     "metadata": {},
     "output_type": "execute_result"
    }
   ],
   "source": [
    "result.head()\n"
   ]
  },
  {
   "cell_type": "code",
   "execution_count": 9,
   "id": "15241918",
   "metadata": {},
   "outputs": [
    {
     "ename": "AttributeError",
     "evalue": "'DataFrame' object has no attribute 'model'",
     "output_type": "error",
     "traceback": [
      "\u001b[0;31m---------------------------------------------------------------------------\u001b[0m",
      "\u001b[0;31mAttributeError\u001b[0m                            Traceback (most recent call last)",
      "Input \u001b[0;32mIn [9]\u001b[0m, in \u001b[0;36m<cell line: 1>\u001b[0;34m()\u001b[0m\n\u001b[0;32m----> 1\u001b[0m \u001b[43mresult\u001b[49m\u001b[38;5;241;43m.\u001b[39;49m\u001b[43mmodel\u001b[49m\n",
      "File \u001b[0;32m~/anaconda3/envs/greenML/lib/python3.8/site-packages/pandas/core/generic.py:5575\u001b[0m, in \u001b[0;36mNDFrame.__getattr__\u001b[0;34m(self, name)\u001b[0m\n\u001b[1;32m   5568\u001b[0m \u001b[38;5;28;01mif\u001b[39;00m (\n\u001b[1;32m   5569\u001b[0m     name \u001b[38;5;129;01mnot\u001b[39;00m \u001b[38;5;129;01min\u001b[39;00m \u001b[38;5;28mself\u001b[39m\u001b[38;5;241m.\u001b[39m_internal_names_set\n\u001b[1;32m   5570\u001b[0m     \u001b[38;5;129;01mand\u001b[39;00m name \u001b[38;5;129;01mnot\u001b[39;00m \u001b[38;5;129;01min\u001b[39;00m \u001b[38;5;28mself\u001b[39m\u001b[38;5;241m.\u001b[39m_metadata\n\u001b[1;32m   5571\u001b[0m     \u001b[38;5;129;01mand\u001b[39;00m name \u001b[38;5;129;01mnot\u001b[39;00m \u001b[38;5;129;01min\u001b[39;00m \u001b[38;5;28mself\u001b[39m\u001b[38;5;241m.\u001b[39m_accessors\n\u001b[1;32m   5572\u001b[0m     \u001b[38;5;129;01mand\u001b[39;00m \u001b[38;5;28mself\u001b[39m\u001b[38;5;241m.\u001b[39m_info_axis\u001b[38;5;241m.\u001b[39m_can_hold_identifiers_and_holds_name(name)\n\u001b[1;32m   5573\u001b[0m ):\n\u001b[1;32m   5574\u001b[0m     \u001b[38;5;28;01mreturn\u001b[39;00m \u001b[38;5;28mself\u001b[39m[name]\n\u001b[0;32m-> 5575\u001b[0m \u001b[38;5;28;01mreturn\u001b[39;00m \u001b[38;5;28;43mobject\u001b[39;49m\u001b[38;5;241;43m.\u001b[39;49m\u001b[38;5;21;43m__getattribute__\u001b[39;49m\u001b[43m(\u001b[49m\u001b[38;5;28;43mself\u001b[39;49m\u001b[43m,\u001b[49m\u001b[43m \u001b[49m\u001b[43mname\u001b[49m\u001b[43m)\u001b[49m\n",
      "\u001b[0;31mAttributeError\u001b[0m: 'DataFrame' object has no attribute 'model'"
     ]
    }
   ],
   "source": [
    "result.model"
   ]
  },
  {
   "cell_type": "code",
   "execution_count": 10,
   "id": "f5643d35",
   "metadata": {},
   "outputs": [
    {
     "ename": "NameError",
     "evalue": "name 'model' is not defined",
     "output_type": "error",
     "traceback": [
      "\u001b[0;31m---------------------------------------------------------------------------\u001b[0m",
      "\u001b[0;31mNameError\u001b[0m                                 Traceback (most recent call last)",
      "Input \u001b[0;32mIn [10]\u001b[0m, in \u001b[0;36m<cell line: 1>\u001b[0;34m()\u001b[0m\n\u001b[0;32m----> 1\u001b[0m result[\u001b[43mmodel\u001b[49m]\n",
      "\u001b[0;31mNameError\u001b[0m: name 'model' is not defined"
     ]
    }
   ],
   "source": [
    "result[model]"
   ]
  },
  {
   "cell_type": "code",
   "execution_count": 11,
   "id": "02c9fdf0",
   "metadata": {},
   "outputs": [
    {
     "ename": "KeyError",
     "evalue": "'model'",
     "output_type": "error",
     "traceback": [
      "\u001b[0;31m---------------------------------------------------------------------------\u001b[0m",
      "\u001b[0;31mKeyError\u001b[0m                                  Traceback (most recent call last)",
      "File \u001b[0;32m~/anaconda3/envs/greenML/lib/python3.8/site-packages/pandas/core/indexes/base.py:3621\u001b[0m, in \u001b[0;36mIndex.get_loc\u001b[0;34m(self, key, method, tolerance)\u001b[0m\n\u001b[1;32m   3620\u001b[0m \u001b[38;5;28;01mtry\u001b[39;00m:\n\u001b[0;32m-> 3621\u001b[0m     \u001b[38;5;28;01mreturn\u001b[39;00m \u001b[38;5;28;43mself\u001b[39;49m\u001b[38;5;241;43m.\u001b[39;49m\u001b[43m_engine\u001b[49m\u001b[38;5;241;43m.\u001b[39;49m\u001b[43mget_loc\u001b[49m\u001b[43m(\u001b[49m\u001b[43mcasted_key\u001b[49m\u001b[43m)\u001b[49m\n\u001b[1;32m   3622\u001b[0m \u001b[38;5;28;01mexcept\u001b[39;00m \u001b[38;5;167;01mKeyError\u001b[39;00m \u001b[38;5;28;01mas\u001b[39;00m err:\n",
      "File \u001b[0;32m~/anaconda3/envs/greenML/lib/python3.8/site-packages/pandas/_libs/index.pyx:136\u001b[0m, in \u001b[0;36mpandas._libs.index.IndexEngine.get_loc\u001b[0;34m()\u001b[0m\n",
      "File \u001b[0;32m~/anaconda3/envs/greenML/lib/python3.8/site-packages/pandas/_libs/index.pyx:163\u001b[0m, in \u001b[0;36mpandas._libs.index.IndexEngine.get_loc\u001b[0;34m()\u001b[0m\n",
      "File \u001b[0;32mpandas/_libs/hashtable_class_helper.pxi:5198\u001b[0m, in \u001b[0;36mpandas._libs.hashtable.PyObjectHashTable.get_item\u001b[0;34m()\u001b[0m\n",
      "File \u001b[0;32mpandas/_libs/hashtable_class_helper.pxi:5206\u001b[0m, in \u001b[0;36mpandas._libs.hashtable.PyObjectHashTable.get_item\u001b[0;34m()\u001b[0m\n",
      "\u001b[0;31mKeyError\u001b[0m: 'model'",
      "\nThe above exception was the direct cause of the following exception:\n",
      "\u001b[0;31mKeyError\u001b[0m                                  Traceback (most recent call last)",
      "Input \u001b[0;32mIn [11]\u001b[0m, in \u001b[0;36m<cell line: 1>\u001b[0;34m()\u001b[0m\n\u001b[0;32m----> 1\u001b[0m \u001b[43mresult\u001b[49m\u001b[43m[\u001b[49m\u001b[38;5;124;43m\"\u001b[39;49m\u001b[38;5;124;43mmodel\u001b[39;49m\u001b[38;5;124;43m\"\u001b[39;49m\u001b[43m]\u001b[49m\n",
      "File \u001b[0;32m~/anaconda3/envs/greenML/lib/python3.8/site-packages/pandas/core/frame.py:3505\u001b[0m, in \u001b[0;36mDataFrame.__getitem__\u001b[0;34m(self, key)\u001b[0m\n\u001b[1;32m   3503\u001b[0m \u001b[38;5;28;01mif\u001b[39;00m \u001b[38;5;28mself\u001b[39m\u001b[38;5;241m.\u001b[39mcolumns\u001b[38;5;241m.\u001b[39mnlevels \u001b[38;5;241m>\u001b[39m \u001b[38;5;241m1\u001b[39m:\n\u001b[1;32m   3504\u001b[0m     \u001b[38;5;28;01mreturn\u001b[39;00m \u001b[38;5;28mself\u001b[39m\u001b[38;5;241m.\u001b[39m_getitem_multilevel(key)\n\u001b[0;32m-> 3505\u001b[0m indexer \u001b[38;5;241m=\u001b[39m \u001b[38;5;28;43mself\u001b[39;49m\u001b[38;5;241;43m.\u001b[39;49m\u001b[43mcolumns\u001b[49m\u001b[38;5;241;43m.\u001b[39;49m\u001b[43mget_loc\u001b[49m\u001b[43m(\u001b[49m\u001b[43mkey\u001b[49m\u001b[43m)\u001b[49m\n\u001b[1;32m   3506\u001b[0m \u001b[38;5;28;01mif\u001b[39;00m is_integer(indexer):\n\u001b[1;32m   3507\u001b[0m     indexer \u001b[38;5;241m=\u001b[39m [indexer]\n",
      "File \u001b[0;32m~/anaconda3/envs/greenML/lib/python3.8/site-packages/pandas/core/indexes/base.py:3623\u001b[0m, in \u001b[0;36mIndex.get_loc\u001b[0;34m(self, key, method, tolerance)\u001b[0m\n\u001b[1;32m   3621\u001b[0m     \u001b[38;5;28;01mreturn\u001b[39;00m \u001b[38;5;28mself\u001b[39m\u001b[38;5;241m.\u001b[39m_engine\u001b[38;5;241m.\u001b[39mget_loc(casted_key)\n\u001b[1;32m   3622\u001b[0m \u001b[38;5;28;01mexcept\u001b[39;00m \u001b[38;5;167;01mKeyError\u001b[39;00m \u001b[38;5;28;01mas\u001b[39;00m err:\n\u001b[0;32m-> 3623\u001b[0m     \u001b[38;5;28;01mraise\u001b[39;00m \u001b[38;5;167;01mKeyError\u001b[39;00m(key) \u001b[38;5;28;01mfrom\u001b[39;00m \u001b[38;5;21;01merr\u001b[39;00m\n\u001b[1;32m   3624\u001b[0m \u001b[38;5;28;01mexcept\u001b[39;00m \u001b[38;5;167;01mTypeError\u001b[39;00m:\n\u001b[1;32m   3625\u001b[0m     \u001b[38;5;66;03m# If we have a listlike key, _check_indexing_error will raise\u001b[39;00m\n\u001b[1;32m   3626\u001b[0m     \u001b[38;5;66;03m#  InvalidIndexError. Otherwise we fall through and re-raise\u001b[39;00m\n\u001b[1;32m   3627\u001b[0m     \u001b[38;5;66;03m#  the TypeError.\u001b[39;00m\n\u001b[1;32m   3628\u001b[0m     \u001b[38;5;28mself\u001b[39m\u001b[38;5;241m.\u001b[39m_check_indexing_error(key)\n",
      "\u001b[0;31mKeyError\u001b[0m: 'model'"
     ]
    }
   ],
   "source": [
    "result[\"model\"]"
   ]
  },
  {
   "cell_type": "code",
   "execution_count": 12,
   "id": "fb67f8db",
   "metadata": {},
   "outputs": [
    {
     "ename": "KeyError",
     "evalue": "'model.classname'",
     "output_type": "error",
     "traceback": [
      "\u001b[0;31m---------------------------------------------------------------------------\u001b[0m",
      "\u001b[0;31mKeyError\u001b[0m                                  Traceback (most recent call last)",
      "File \u001b[0;32m~/anaconda3/envs/greenML/lib/python3.8/site-packages/pandas/core/indexes/base.py:3621\u001b[0m, in \u001b[0;36mIndex.get_loc\u001b[0;34m(self, key, method, tolerance)\u001b[0m\n\u001b[1;32m   3620\u001b[0m \u001b[38;5;28;01mtry\u001b[39;00m:\n\u001b[0;32m-> 3621\u001b[0m     \u001b[38;5;28;01mreturn\u001b[39;00m \u001b[38;5;28;43mself\u001b[39;49m\u001b[38;5;241;43m.\u001b[39;49m\u001b[43m_engine\u001b[49m\u001b[38;5;241;43m.\u001b[39;49m\u001b[43mget_loc\u001b[49m\u001b[43m(\u001b[49m\u001b[43mcasted_key\u001b[49m\u001b[43m)\u001b[49m\n\u001b[1;32m   3622\u001b[0m \u001b[38;5;28;01mexcept\u001b[39;00m \u001b[38;5;167;01mKeyError\u001b[39;00m \u001b[38;5;28;01mas\u001b[39;00m err:\n",
      "File \u001b[0;32m~/anaconda3/envs/greenML/lib/python3.8/site-packages/pandas/_libs/index.pyx:136\u001b[0m, in \u001b[0;36mpandas._libs.index.IndexEngine.get_loc\u001b[0;34m()\u001b[0m\n",
      "File \u001b[0;32m~/anaconda3/envs/greenML/lib/python3.8/site-packages/pandas/_libs/index.pyx:163\u001b[0m, in \u001b[0;36mpandas._libs.index.IndexEngine.get_loc\u001b[0;34m()\u001b[0m\n",
      "File \u001b[0;32mpandas/_libs/hashtable_class_helper.pxi:5198\u001b[0m, in \u001b[0;36mpandas._libs.hashtable.PyObjectHashTable.get_item\u001b[0;34m()\u001b[0m\n",
      "File \u001b[0;32mpandas/_libs/hashtable_class_helper.pxi:5206\u001b[0m, in \u001b[0;36mpandas._libs.hashtable.PyObjectHashTable.get_item\u001b[0;34m()\u001b[0m\n",
      "\u001b[0;31mKeyError\u001b[0m: 'model.classname'",
      "\nThe above exception was the direct cause of the following exception:\n",
      "\u001b[0;31mKeyError\u001b[0m                                  Traceback (most recent call last)",
      "Input \u001b[0;32mIn [12]\u001b[0m, in \u001b[0;36m<cell line: 1>\u001b[0;34m()\u001b[0m\n\u001b[0;32m----> 1\u001b[0m \u001b[43mresult\u001b[49m\u001b[43m[\u001b[49m\u001b[38;5;124;43m\"\u001b[39;49m\u001b[38;5;124;43mmodel.classname\u001b[39;49m\u001b[38;5;124;43m\"\u001b[39;49m\u001b[43m]\u001b[49m\n",
      "File \u001b[0;32m~/anaconda3/envs/greenML/lib/python3.8/site-packages/pandas/core/frame.py:3505\u001b[0m, in \u001b[0;36mDataFrame.__getitem__\u001b[0;34m(self, key)\u001b[0m\n\u001b[1;32m   3503\u001b[0m \u001b[38;5;28;01mif\u001b[39;00m \u001b[38;5;28mself\u001b[39m\u001b[38;5;241m.\u001b[39mcolumns\u001b[38;5;241m.\u001b[39mnlevels \u001b[38;5;241m>\u001b[39m \u001b[38;5;241m1\u001b[39m:\n\u001b[1;32m   3504\u001b[0m     \u001b[38;5;28;01mreturn\u001b[39;00m \u001b[38;5;28mself\u001b[39m\u001b[38;5;241m.\u001b[39m_getitem_multilevel(key)\n\u001b[0;32m-> 3505\u001b[0m indexer \u001b[38;5;241m=\u001b[39m \u001b[38;5;28;43mself\u001b[39;49m\u001b[38;5;241;43m.\u001b[39;49m\u001b[43mcolumns\u001b[49m\u001b[38;5;241;43m.\u001b[39;49m\u001b[43mget_loc\u001b[49m\u001b[43m(\u001b[49m\u001b[43mkey\u001b[49m\u001b[43m)\u001b[49m\n\u001b[1;32m   3506\u001b[0m \u001b[38;5;28;01mif\u001b[39;00m is_integer(indexer):\n\u001b[1;32m   3507\u001b[0m     indexer \u001b[38;5;241m=\u001b[39m [indexer]\n",
      "File \u001b[0;32m~/anaconda3/envs/greenML/lib/python3.8/site-packages/pandas/core/indexes/base.py:3623\u001b[0m, in \u001b[0;36mIndex.get_loc\u001b[0;34m(self, key, method, tolerance)\u001b[0m\n\u001b[1;32m   3621\u001b[0m     \u001b[38;5;28;01mreturn\u001b[39;00m \u001b[38;5;28mself\u001b[39m\u001b[38;5;241m.\u001b[39m_engine\u001b[38;5;241m.\u001b[39mget_loc(casted_key)\n\u001b[1;32m   3622\u001b[0m \u001b[38;5;28;01mexcept\u001b[39;00m \u001b[38;5;167;01mKeyError\u001b[39;00m \u001b[38;5;28;01mas\u001b[39;00m err:\n\u001b[0;32m-> 3623\u001b[0m     \u001b[38;5;28;01mraise\u001b[39;00m \u001b[38;5;167;01mKeyError\u001b[39;00m(key) \u001b[38;5;28;01mfrom\u001b[39;00m \u001b[38;5;21;01merr\u001b[39;00m\n\u001b[1;32m   3624\u001b[0m \u001b[38;5;28;01mexcept\u001b[39;00m \u001b[38;5;167;01mTypeError\u001b[39;00m:\n\u001b[1;32m   3625\u001b[0m     \u001b[38;5;66;03m# If we have a listlike key, _check_indexing_error will raise\u001b[39;00m\n\u001b[1;32m   3626\u001b[0m     \u001b[38;5;66;03m#  InvalidIndexError. Otherwise we fall through and re-raise\u001b[39;00m\n\u001b[1;32m   3627\u001b[0m     \u001b[38;5;66;03m#  the TypeError.\u001b[39;00m\n\u001b[1;32m   3628\u001b[0m     \u001b[38;5;28mself\u001b[39m\u001b[38;5;241m.\u001b[39m_check_indexing_error(key)\n",
      "\u001b[0;31mKeyError\u001b[0m: 'model.classname'"
     ]
    }
   ],
   "source": [
    "result[\"model.classname\"]"
   ]
  },
  {
   "cell_type": "code",
   "execution_count": 13,
   "id": "b604267b",
   "metadata": {},
   "outputs": [
    {
     "ename": "KeyError",
     "evalue": "'model.class_name'",
     "output_type": "error",
     "traceback": [
      "\u001b[0;31m---------------------------------------------------------------------------\u001b[0m",
      "\u001b[0;31mKeyError\u001b[0m                                  Traceback (most recent call last)",
      "File \u001b[0;32m~/anaconda3/envs/greenML/lib/python3.8/site-packages/pandas/core/indexes/base.py:3621\u001b[0m, in \u001b[0;36mIndex.get_loc\u001b[0;34m(self, key, method, tolerance)\u001b[0m\n\u001b[1;32m   3620\u001b[0m \u001b[38;5;28;01mtry\u001b[39;00m:\n\u001b[0;32m-> 3621\u001b[0m     \u001b[38;5;28;01mreturn\u001b[39;00m \u001b[38;5;28;43mself\u001b[39;49m\u001b[38;5;241;43m.\u001b[39;49m\u001b[43m_engine\u001b[49m\u001b[38;5;241;43m.\u001b[39;49m\u001b[43mget_loc\u001b[49m\u001b[43m(\u001b[49m\u001b[43mcasted_key\u001b[49m\u001b[43m)\u001b[49m\n\u001b[1;32m   3622\u001b[0m \u001b[38;5;28;01mexcept\u001b[39;00m \u001b[38;5;167;01mKeyError\u001b[39;00m \u001b[38;5;28;01mas\u001b[39;00m err:\n",
      "File \u001b[0;32m~/anaconda3/envs/greenML/lib/python3.8/site-packages/pandas/_libs/index.pyx:136\u001b[0m, in \u001b[0;36mpandas._libs.index.IndexEngine.get_loc\u001b[0;34m()\u001b[0m\n",
      "File \u001b[0;32m~/anaconda3/envs/greenML/lib/python3.8/site-packages/pandas/_libs/index.pyx:163\u001b[0m, in \u001b[0;36mpandas._libs.index.IndexEngine.get_loc\u001b[0;34m()\u001b[0m\n",
      "File \u001b[0;32mpandas/_libs/hashtable_class_helper.pxi:5198\u001b[0m, in \u001b[0;36mpandas._libs.hashtable.PyObjectHashTable.get_item\u001b[0;34m()\u001b[0m\n",
      "File \u001b[0;32mpandas/_libs/hashtable_class_helper.pxi:5206\u001b[0m, in \u001b[0;36mpandas._libs.hashtable.PyObjectHashTable.get_item\u001b[0;34m()\u001b[0m\n",
      "\u001b[0;31mKeyError\u001b[0m: 'model.class_name'",
      "\nThe above exception was the direct cause of the following exception:\n",
      "\u001b[0;31mKeyError\u001b[0m                                  Traceback (most recent call last)",
      "Input \u001b[0;32mIn [13]\u001b[0m, in \u001b[0;36m<cell line: 1>\u001b[0;34m()\u001b[0m\n\u001b[0;32m----> 1\u001b[0m \u001b[43mresult\u001b[49m\u001b[43m[\u001b[49m\u001b[38;5;124;43m\"\u001b[39;49m\u001b[38;5;124;43mmodel.class_name\u001b[39;49m\u001b[38;5;124;43m\"\u001b[39;49m\u001b[43m]\u001b[49m\n",
      "File \u001b[0;32m~/anaconda3/envs/greenML/lib/python3.8/site-packages/pandas/core/frame.py:3505\u001b[0m, in \u001b[0;36mDataFrame.__getitem__\u001b[0;34m(self, key)\u001b[0m\n\u001b[1;32m   3503\u001b[0m \u001b[38;5;28;01mif\u001b[39;00m \u001b[38;5;28mself\u001b[39m\u001b[38;5;241m.\u001b[39mcolumns\u001b[38;5;241m.\u001b[39mnlevels \u001b[38;5;241m>\u001b[39m \u001b[38;5;241m1\u001b[39m:\n\u001b[1;32m   3504\u001b[0m     \u001b[38;5;28;01mreturn\u001b[39;00m \u001b[38;5;28mself\u001b[39m\u001b[38;5;241m.\u001b[39m_getitem_multilevel(key)\n\u001b[0;32m-> 3505\u001b[0m indexer \u001b[38;5;241m=\u001b[39m \u001b[38;5;28;43mself\u001b[39;49m\u001b[38;5;241;43m.\u001b[39;49m\u001b[43mcolumns\u001b[49m\u001b[38;5;241;43m.\u001b[39;49m\u001b[43mget_loc\u001b[49m\u001b[43m(\u001b[49m\u001b[43mkey\u001b[49m\u001b[43m)\u001b[49m\n\u001b[1;32m   3506\u001b[0m \u001b[38;5;28;01mif\u001b[39;00m is_integer(indexer):\n\u001b[1;32m   3507\u001b[0m     indexer \u001b[38;5;241m=\u001b[39m [indexer]\n",
      "File \u001b[0;32m~/anaconda3/envs/greenML/lib/python3.8/site-packages/pandas/core/indexes/base.py:3623\u001b[0m, in \u001b[0;36mIndex.get_loc\u001b[0;34m(self, key, method, tolerance)\u001b[0m\n\u001b[1;32m   3621\u001b[0m     \u001b[38;5;28;01mreturn\u001b[39;00m \u001b[38;5;28mself\u001b[39m\u001b[38;5;241m.\u001b[39m_engine\u001b[38;5;241m.\u001b[39mget_loc(casted_key)\n\u001b[1;32m   3622\u001b[0m \u001b[38;5;28;01mexcept\u001b[39;00m \u001b[38;5;167;01mKeyError\u001b[39;00m \u001b[38;5;28;01mas\u001b[39;00m err:\n\u001b[0;32m-> 3623\u001b[0m     \u001b[38;5;28;01mraise\u001b[39;00m \u001b[38;5;167;01mKeyError\u001b[39;00m(key) \u001b[38;5;28;01mfrom\u001b[39;00m \u001b[38;5;21;01merr\u001b[39;00m\n\u001b[1;32m   3624\u001b[0m \u001b[38;5;28;01mexcept\u001b[39;00m \u001b[38;5;167;01mTypeError\u001b[39;00m:\n\u001b[1;32m   3625\u001b[0m     \u001b[38;5;66;03m# If we have a listlike key, _check_indexing_error will raise\u001b[39;00m\n\u001b[1;32m   3626\u001b[0m     \u001b[38;5;66;03m#  InvalidIndexError. Otherwise we fall through and re-raise\u001b[39;00m\n\u001b[1;32m   3627\u001b[0m     \u001b[38;5;66;03m#  the TypeError.\u001b[39;00m\n\u001b[1;32m   3628\u001b[0m     \u001b[38;5;28mself\u001b[39m\u001b[38;5;241m.\u001b[39m_check_indexing_error(key)\n",
      "\u001b[0;31mKeyError\u001b[0m: 'model.class_name'"
     ]
    }
   ],
   "source": [
    "result[\"model.class_name\"]"
   ]
  },
  {
   "cell_type": "code",
   "execution_count": 14,
   "id": "83ab7cbb",
   "metadata": {},
   "outputs": [
    {
     "data": {
      "text/plain": [
       "0     Sequential\n",
       "1     Sequential\n",
       "2     Sequential\n",
       "3     Sequential\n",
       "4     Sequential\n",
       "5     Sequential\n",
       "6     Sequential\n",
       "7     Sequential\n",
       "8     Sequential\n",
       "9     Sequential\n",
       "10    Sequential\n",
       "11    Sequential\n",
       "12    Sequential\n",
       "13    Sequential\n",
       "14    Sequential\n",
       "15    Sequential\n",
       "16    Sequential\n",
       "17    Sequential\n",
       "18    Sequential\n",
       "19    Sequential\n",
       "20    Sequential\n",
       "21    Sequential\n",
       "22    Sequential\n",
       "23    Sequential\n",
       "24    Sequential\n",
       "25    Sequential\n",
       "26    Sequential\n",
       "27    Sequential\n",
       "28    Sequential\n",
       "29    Sequential\n",
       "30    Sequential\n",
       "31    Sequential\n",
       "32    Sequential\n",
       "33    Sequential\n",
       "34    Sequential\n",
       "35    Sequential\n",
       "36    Sequential\n",
       "Name: result.model.class_name, dtype: object"
      ]
     },
     "execution_count": 14,
     "metadata": {},
     "output_type": "execute_result"
    }
   ],
   "source": [
    "result[\"result.model.class_name\"]"
   ]
  },
  {
   "cell_type": "code",
   "execution_count": null,
   "id": "f0aca240",
   "metadata": {},
   "outputs": [],
   "source": []
  }
 ],
 "metadata": {
  "kernelspec": {
   "display_name": "Python 3 (ipykernel)",
   "language": "python",
   "name": "python3"
  },
  "language_info": {
   "codemirror_mode": {
    "name": "ipython",
    "version": 3
   },
   "file_extension": ".py",
   "mimetype": "text/x-python",
   "name": "python",
   "nbconvert_exporter": "python",
   "pygments_lexer": "ipython3",
   "version": "3.8.13"
  }
 },
 "nbformat": 4,
 "nbformat_minor": 5
}
